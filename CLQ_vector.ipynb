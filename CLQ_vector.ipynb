{
 "cells": [
  {
   "attachments": {},
   "cell_type": "markdown",
   "metadata": {},
   "source": [
    "# Vectorized CLQ operation\n",
    "The idea here is to utilize squidpy's fast neighborhood calculation, and then simply permute neighbor cluster assignments on the graph itself.\n",
    "Therefore we only calculate the neighbors once, and use logical indexing to find the neighborhood composition.\n",
    "The second optimization vectorizes the neighbor cluster permutations (so instead of a 1 x N_cells vector of neighbor cluster identities, it is a N_perms x N_cells matrix).\n",
    "We are then able to utilize numpy's extremely fast unique counts code (C-based) to calculate neighborhood content. This calculation is parallelized across each cell. There is also potential further acceleration using GPU-based implementations (CuBLAS, CuPy, etc)"
   ]
  },
  {
   "cell_type": "code",
   "execution_count": 6,
   "metadata": {
    "vscode": {
     "languageId": "python"
    }
   },
   "outputs": [],
   "source": [
    "import numpy as np\n",
    "import pandas as pd\n",
    "import squidpy as sq\n",
    "from multiprocessing import Pool\n",
    "import glob"
   ]
  },
  {
   "cell_type": "code",
   "execution_count": 60,
   "metadata": {
    "vscode": {
     "languageId": "python"
    }
   },
   "outputs": [],
   "source": [
    "#Utilize complex numbers to vectorize permutation counts\n",
    "def unique_perms(a):\n",
    "    weight = 1j*np.arange(0,a.shape[0])\n",
    "    b = a + weight[:, np.newaxis]\n",
    "    u, cts = np.unique(b, return_counts=True)\n",
    "    return u,cts\n",
    "\n",
    "#Mapping functions for parallelization\n",
    "def process_neighborhood(n):\n",
    "    global t_perms,t_clust,tcell_perms\n",
    "    ncv = np.zeros((t_perms+1,t_clust),dtype=np.float32)\n",
    "    \n",
    "    if len(n) == 0:\n",
    "        return ncv\n",
    "    \n",
    "    j,cts = unique_perms(tcell_perms[:,n])\n",
    "    ncv[np.imag(j).astype(np.int32),np.real(j).astype(np.int32)] = cts\n",
    "\n",
    "    return ncv\n",
    "\n",
    "def pool_ncvs(argperm,argclust,argcperms):\n",
    "    global t_perms,t_clust,tcell_perms\n",
    "    t_perms,t_clust,tcell_perms = argperm,argclust,argcperms\n",
    "\n",
    "#Optimized CLQ using vectorized operations\n",
    "def CLQ_vec(adata,clust_col='leiden',clust_uniq=None,radius=50,n_perms=1000):\n",
    "    #Calculate spatial neighbors once.\n",
    "    sq.gr.spatial_neighbors(adata,coord_type='generic',radius=radius)\n",
    "    neigh_idx = adata.obsp['spatial_connectivities'].tolil()\n",
    "    neighborhoods = [x + [i] for i,x in enumerate(neigh_idx.rows)] #Append self to match previous implementation? (x + [i])\n",
    "\n",
    "    #Global frequencies.\n",
    "    global_cluster_freq = adata.obs[clust_col].value_counts(normalize=True)\n",
    "    if clust_uniq is not None:\n",
    "        null_clusters = global_cluster_freq.index.difference(pd.Index(clust_uniq))\n",
    "        for c in null_clusters:\n",
    "            global_cluster_freq[c] = 0\n",
    "    \n",
    "    #Cluster identities for each cell\n",
    "    cell_ids = adata.obs.loc[:,clust_col]\n",
    "\n",
    "    #Map clusters to integers for fast vectorization in numpy\n",
    "    label_dict = {x:i for i,x in enumerate(global_cluster_freq.index)}\n",
    "    n_clust = len(label_dict)\n",
    "\n",
    "    #Permute cluster identities across cells\n",
    "    cell_id_perms = [[label_dict[x] for x in cell_ids]] #0th permutation is the observed NCV\n",
    "    cell_id_perms.extend([[label_dict[x] for x in np.random.permutation(cell_ids)] for i in range(n_perms)])\n",
    "    cell_id_perms = np.array(cell_id_perms)\n",
    "\n",
    "    #Calculate neighborhood content vectors (NCVs). \n",
    "    p = Pool(initializer=pool_ncvs, initargs=[n_perms, n_clust, cell_id_perms])\n",
    "    temp = p.map(process_neighborhood, [n for n in neighborhoods])\n",
    "    p.close()\n",
    "    p.join()\n",
    "\n",
    "    ncv = np.array(temp).transpose((1,0,2))\n",
    "    norm_ncv = ncv/(ncv.sum(axis=2)[:,:,np.newaxis]+1e-99)\n",
    "\n",
    "    #Old single-threaded version.\n",
    "    '''\n",
    "    ncv = np.zeros((n_perms+1,n_cells,n_clust),dtype=np.float32)\n",
    "    for i,cell_neighborhood in enumerate(neighborhoods):\n",
    "        if len(cell_neighborhood) == 0:\n",
    "            continue\n",
    "\n",
    "        j,cts = unique_perms(cell_id_perms[:,cell_neighborhood])\n",
    "        ncv[np.imag(j).astype(np.int32),i,np.real(j).astype(np.int32)] = cts\n",
    "    '''\n",
    "    \n",
    "    #Read out local CLQ from NCV vectors\n",
    "    local_clq = norm_ncv/np.array([global_cluster_freq[x] for x in label_dict])\n",
    "    \n",
    "    #Average local_clq over clusters to get global CLQ\n",
    "    global_clq = np.array([np.nanmean(local_clq[cell_id_perms == label_dict[x],:].reshape(n_perms+1,-1,n_clust),1) for x in label_dict])\n",
    "\n",
    "    #Read out the observed local and global CLQs\n",
    "    idx = [x for x in label_dict]\n",
    "    lclq = pd.DataFrame(local_clq[0,:,:],columns=idx,index=adata.obs_names)\n",
    "    gclq = pd.DataFrame(global_clq[:,0,:],index=idx,columns=idx)\n",
    "    ncv = pd.DataFrame(ncv[0,:,:],index=adata.obs_names,columns=idx)\n",
    "\n",
    "    #Permutation test\n",
    "    clq_perm = (global_clq[:,1:,:] < global_clq[:,0,:].reshape(n_clust,-1,n_clust)).sum(1)/n_perms\n",
    "    clq_perm = pd.DataFrame(clq_perm,index=idx,columns=idx)\n",
    "        \n",
    "    adata.obsm['NCV'] = ncv\n",
    "    adata.obsm['local_clq'] = lclq\n",
    "    adata.uns['CLQ'] = {'global_clq': gclq, 'permute_test': clq_perm}\n",
    "\n",
    "    return adata"
   ]
  },
  {
   "attachments": {},
   "cell_type": "markdown",
   "metadata": {},
   "source": [
    "# Original CLQ implementation for comparison"
   ]
  },
  {
   "cell_type": "code",
   "execution_count": 48,
   "metadata": {
    "vscode": {
     "languageId": "python"
    }
   },
   "outputs": [],
   "source": [
    "import os\n",
    "import glob\n",
    "import numpy as np\n",
    "import pandas as pd\n",
    "\n",
    "import anndata as ad\n",
    "from anndata import AnnData\n",
    "import scanpy as sc\n",
    "\n",
    "from sklearn.neighbors import KDTree\n",
    "from multiprocessing import Pool"
   ]
  },
  {
   "cell_type": "code",
   "execution_count": 49,
   "metadata": {
    "vscode": {
     "languageId": "python"
    }
   },
   "outputs": [],
   "source": [
    "def initializer_pool(argTree, argobs_df,argcluster_uniq):\n",
    "    global tree\n",
    "    global obs_df\n",
    "    global cluster_uniq\n",
    "    \n",
    "    tree = argTree\n",
    "    obs_df = argobs_df\n",
    "    cluster_uniq = argcluster_uniq\n",
    "    \n",
    "def neighborhood_analysis(point):\n",
    "    global tree\n",
    "    global obs_df\n",
    "    global cluster_uniq\n",
    "    \n",
    "    pt = np.reshape(point, (-1, 2))\n",
    "    ndx = tree.query_radius(pt, r=50)\n",
    "\n",
    "    neighborhood = [obs_df[i] for i in ndx[0].tolist()]\n",
    "    cluster_count=[]\n",
    "    for cluster in cluster_uniq:\n",
    "        cluster_count.append(neighborhood.count(cluster))\n",
    "\n",
    "    return cluster_count\n",
    "\n",
    "def adjaceny_count(points,tree,obs_df,cluster_uniq):\n",
    "    p = Pool(initializer=initializer_pool, initargs=[tree, obs_df,cluster_uniq])\n",
    "    temp = p.map(neighborhood_analysis, [i for i in points], chunksize=10)\n",
    "\n",
    "    p.close()\n",
    "    p.join()\n",
    "\n",
    "    count_df = pd.DataFrame(temp,columns = ['nhood_count '+x for x in cluster_uniq])\n",
    "    \n",
    "    return count_df\n",
    "\n",
    "def calc_clqs(count_df,global_freq_df,cluster_uniq,obs_df,cluster_obs):\n",
    "    freq_df= count_df.div(count_df.sum(axis=1), axis=0)\n",
    "    local_clq=freq_df.div(global_freq_df.iloc[0], axis='columns')  # Divide local (neighborhood) frequency by global frequency to get the local CLQ\n",
    "    \n",
    "    local_clq[cluster_obs]=obs_df\n",
    "\n",
    "    # Get mean of each cluster's local CLQ to generate the global CLQ\n",
    "    global_clq = pd.DataFrame(columns = cluster_uniq)\n",
    "\n",
    "    for cl_unq in cluster_uniq:\n",
    "\n",
    "        temp=local_clq[local_clq[cluster_obs]==cl_unq]\n",
    "\n",
    "        if len(temp)>0:\n",
    "            temp=temp.mean()\n",
    "            global_clq.loc[len(global_clq)] = temp.values[:-1].tolist()\n",
    "        else:\n",
    "            global_clq.loc[len(global_clq)] = np.nan\n",
    "    \n",
    "    return local_clq,global_clq\n",
    "\n",
    "def CLQ(adata,cluster_uniq,cluster_obs='cluster_id', radius=50, num_permute=1000):\n",
    "    \n",
    "    \"\"\"Calculates local and global CLQ for a given image stored in anndata object\n",
    "    \n",
    "    Parameters\n",
    "    ----------\n",
    "    adata : Anndata object. Anndata object must contain 2D numpy adata['spatial'].obsm which contains [x,y] coordinate. \n",
    "            Also, an obs column with cluster ID/name\n",
    "    cluster_uniq: A list of all unique cluster names (get from study level data). We do this as a parameter since some images may not contain a given cluster. \n",
    "    cluster_obs: string name of cluster column\n",
    "    radius: neighborhood size in pixels\n",
    "    num_permute: number of permutations for CLQ null hypothesis test\n",
    " \n",
    "    Returns\n",
    "    -------\n",
    "    adata : Anndata object with appended neighborhood counts and local CLQ values as per cluster ID/name obs. And global CLQ and permutation score matrices in uns. \n",
    "    \n",
    "    \"\"\"\n",
    "    obs_df=adata.obs[cluster_obs]\n",
    "    obs_df=[str(x) for x in obs_df]\n",
    "    \n",
    "    global_cluster_count=[]       # Get global (per image) counts of each cluster\n",
    "    for cluster in cluster_uniq:\n",
    "        global_cluster_count.append(obs_df.count(cluster))\n",
    "\n",
    "    total_count=sum(global_cluster_count)   # Get global frequency for each cluster\n",
    "    global_cluster_freq=[x/total_count for x in global_cluster_count]\n",
    "    global_freq_df = pd.DataFrame([global_cluster_freq],columns = ['nhood_count '+x for x in cluster_uniq])\n",
    "\n",
    "    points=adata.obsm['spatial'].tolist()   # Create KDTree\n",
    "    tree=KDTree(points)\n",
    "    \n",
    "    count_df=adjaceny_count(points,tree,obs_df,cluster_uniq)\n",
    "    \n",
    "    local_clq,global_clq=calc_clqs(count_df,global_freq_df,cluster_uniq,obs_df,cluster_obs)\n",
    "    #global_clq['']\n",
    "    \n",
    "    #permute\n",
    "    permute_test=global_clq*0\n",
    "\n",
    "    for z in range(num_permute):\n",
    "        obs_df_permute=adata.obs[cluster_obs].sample(frac=1).reset_index(drop=True) # randomly permute dataframe\n",
    "        obs_df_permute=[str(x) for x in obs_df_permute]\n",
    "        \n",
    "        count_df_permute=adjaceny_count(points,tree,obs_df_permute,cluster_uniq)\n",
    "        \n",
    "        local_clq_permute,global_clq_permute=calc_clqs(count_df_permute,global_freq_df,cluster_uniq,obs_df_permute,cluster_obs)\n",
    "        \n",
    "        global_clq_permute = pd.DataFrame(columns = cluster_uniq)\n",
    "        for cl_unq in cluster_uniq:\n",
    "\n",
    "            temp=local_clq_permute[local_clq_permute[cluster_obs]==cl_unq]\n",
    "\n",
    "            if len(temp)>0:\n",
    "                temp=temp.mean()\n",
    "                global_clq_permute.loc[len(global_clq_permute)] = temp.values[:-1].tolist()\n",
    "            else:\n",
    "                global_clq_permute.loc[len(global_clq_permute)] = np.nan\n",
    "\n",
    "            \n",
    "\n",
    "        permute_test=permute_test+(global_clq>global_clq_permute)*1\n",
    "\n",
    "    permute_test=(permute_test/num_permute)\n",
    "    \n",
    "    local_clq=local_clq.iloc[:,:-1]\n",
    "    new_names=['localCLQ to '+x.split('nhood_count ')[1] for x in local_clq.columns.tolist()]\n",
    "    local_clq.columns=new_names\n",
    "\n",
    "    global_clq.index = global_clq.columns.tolist()\n",
    "    permute_test.index = permute_test.columns.tolist()\n",
    "    \n",
    "    return local_clq, global_clq, permute_test"
   ]
  },
  {
   "attachments": {},
   "cell_type": "markdown",
   "metadata": {},
   "source": [
    "# Example usage on same data."
   ]
  },
  {
   "cell_type": "code",
   "execution_count": 44,
   "metadata": {
    "vscode": {
     "languageId": "python"
    }
   },
   "outputs": [],
   "source": [
    "import os\n",
    "import anndata as ad\n",
    "import seaborn as sns\n",
    "import matplotlib.pyplot as plt"
   ]
  },
  {
   "cell_type": "code",
   "execution_count": 61,
   "metadata": {
    "vscode": {
     "languageId": "python"
    }
   },
   "outputs": [
    {
     "name": "stderr",
     "output_type": "stream",
     "text": [
      "/gstore/home/fooc5/pyenvs/squidpy_env/lib/python3.10/site-packages/anndata/_core/anndata.py:117: ImplicitModificationWarning: Transforming to str index.\n",
      "  warnings.warn(\"Transforming to str index.\", ImplicitModificationWarning)\n"
     ]
    }
   ],
   "source": [
    "os.chdir('/gne/data/pathology/t3imagedata/Projects/SPEX/IMC-Control_Tonsil/')\n",
    "annfiles = glob.glob('*.h5ad', recursive = False)\n",
    "file=annfiles[0]\n",
    "adata = ad.read_h5ad(file)\n",
    "\n",
    "obs_df=adata.obs['cluster_id']   \n",
    "cluster_uniq=list(set(obs_df))"
   ]
  },
  {
   "cell_type": "code",
   "execution_count": 62,
   "metadata": {
    "vscode": {
     "languageId": "python"
    }
   },
   "outputs": [
    {
     "name": "stdout",
     "output_type": "stream",
     "text": [
      "CPU times: user 3.71 s, sys: 1.67 s, total: 5.38 s\n",
      "Wall time: 5.55 s\n"
     ]
    }
   ],
   "source": [
    "%%time\n",
    "lclq_vec,gclq_vec,ptest_vec = CLQ_vec(adata,clust_col='cluster_id',clust_uniq=cluster_uniq, radius=50, n_perms=10) # execute on single image anndata object"
   ]
  },
  {
   "cell_type": "code",
   "execution_count": 63,
   "metadata": {
    "vscode": {
     "languageId": "python"
    }
   },
   "outputs": [],
   "source": [
    "obs_df=adata.obs['cluster_id']    # Get unique cluster names (as string) in the dataset\n",
    "obs_df=[str(x) for x in obs_df]  \n",
    "cluster_uniq=list(set(obs_df))"
   ]
  },
  {
   "cell_type": "code",
   "execution_count": 64,
   "metadata": {
    "vscode": {
     "languageId": "python"
    }
   },
   "outputs": [
    {
     "name": "stdout",
     "output_type": "stream",
     "text": [
      "CPU times: user 10.1 s, sys: 13.3 s, total: 23.4 s\n",
      "Wall time: 27.9 s\n"
     ]
    }
   ],
   "source": [
    "%%time\n",
    "lclq,gclq,ptest = CLQ(adata, cluster_uniq, cluster_obs='cluster_id',radius=50,num_permute=10)"
   ]
  },
  {
   "attachments": {},
   "cell_type": "markdown",
   "metadata": {},
   "source": [
    "# Scaling with large n_permutations\n",
    "\n",
    "The vectorized formulation is designed to scale with large permutation number and large cell counts. Let's look at scaling across permutations"
   ]
  },
  {
   "cell_type": "code",
   "execution_count": 84,
   "metadata": {
    "vscode": {
     "languageId": "python"
    }
   },
   "outputs": [],
   "source": [
    "#Try again with more permutations\n",
    "import time\n",
    "nperms = [10,100,1000]"
   ]
  },
  {
   "cell_type": "code",
   "execution_count": 85,
   "metadata": {
    "vscode": {
     "languageId": "python"
    }
   },
   "outputs": [
    {
     "name": "stderr",
     "output_type": "stream",
     "text": [
      "/gstore/home/fooc5/pyenvs/squidpy_env/lib/python3.10/site-packages/anndata/_core/anndata.py:117: ImplicitModificationWarning: Transforming to str index.\n",
      "  warnings.warn(\"Transforming to str index.\", ImplicitModificationWarning)\n"
     ]
    }
   ],
   "source": [
    "os.chdir('/gne/data/pathology/t3imagedata/Projects/SPEX/IMC-Control_Tonsil/')\n",
    "annfiles = glob.glob('*.h5ad', recursive = False)\n",
    "file=annfiles[0]\n",
    "adata = ad.read_h5ad(file)\n",
    "\n",
    "obs_df=adata.obs['cluster_id']   \n",
    "cluster_uniq=list(set(obs_df))"
   ]
  },
  {
   "cell_type": "code",
   "execution_count": 86,
   "metadata": {
    "vscode": {
     "languageId": "python"
    }
   },
   "outputs": [],
   "source": [
    "vec_time = []\n",
    "for p in nperms:\n",
    "    st = time.time()\n",
    "    _ = CLQ_vec(adata,clust_col='cluster_id',clust_uniq=cluster_uniq, radius=50, n_perms=p) # execute on single image anndata object\n",
    "    vec_time.append(time.time()-st)"
   ]
  },
  {
   "cell_type": "code",
   "execution_count": 88,
   "metadata": {
    "vscode": {
     "languageId": "python"
    }
   },
   "outputs": [],
   "source": [
    "obs_df=adata.obs['cluster_id']    # Get unique cluster names (as string) in the dataset\n",
    "obs_df=[str(x) for x in obs_df]  \n",
    "cluster_uniq=list(set(obs_df))"
   ]
  },
  {
   "cell_type": "code",
   "execution_count": 89,
   "metadata": {
    "vscode": {
     "languageId": "python"
    }
   },
   "outputs": [],
   "source": [
    "orig_time = []\n",
    "for p in nperms:\n",
    "    st = time.time()\n",
    "    _ = CLQ(adata, cluster_uniq, cluster_obs='cluster_id',radius=50,num_permute=p)\n",
    "    orig_time.append(time.time()-st)"
   ]
  },
  {
   "cell_type": "code",
   "execution_count": 91,
   "metadata": {
    "vscode": {
     "languageId": "python"
    }
   },
   "outputs": [
    {
     "data": {
      "image/png": "[encoded data removed]",
      "text/plain": [
       "<Figure size 640x480 with 1 Axes>"
      ]
     },
     "metadata": {},
     "output_type": "display_data"
    }
   ],
   "source": [
    "plt.plot(nperms,vec_time,'-o',label='Vectorized')\n",
    "plt.plot(nperms,orig_time,'-o',label='Original')\n",
    "\n",
    "plt.legend()\n",
    "plt.xlabel('Number of permutations')\n",
    "plt.ylabel('Runtime (s)')\n",
    "\n",
    "plt.show()"
   ]
  },
  {
   "attachments": {},
   "cell_type": "markdown",
   "metadata": {},
   "source": [
    "# Compare results"
   ]
  },
  {
   "cell_type": "code",
   "execution_count": 92,
   "metadata": {
    "vscode": {
     "languageId": "python"
    }
   },
   "outputs": [
    {
     "data": {
      "text/html": [
       "<div>\n",
       "<style scoped>\n",
       "    .dataframe tbody tr th:only-of-type {\n",
       "        vertical-align: middle;\n",
       "    }\n",
       "\n",
       "    .dataframe tbody tr th {\n",
       "        vertical-align: top;\n",
       "    }\n",
       "\n",
       "    .dataframe thead th {\n",
       "        text-align: right;\n",
       "    }\n",
       "</style>\n",
       "<table border=\"1\" class=\"dataframe\">\n",
       "  <thead>\n",
       "    <tr style=\"text-align: right;\">\n",
       "      <th></th>\n",
       "      <th>512</th>\n",
       "      <th>133</th>\n",
       "      <th>654</th>\n",
       "      <th>275</th>\n",
       "      <th>796</th>\n",
       "      <th>417</th>\n",
       "      <th>939</th>\n",
       "      <th>559</th>\n",
       "      <th>180</th>\n",
       "      <th>702</th>\n",
       "      <th>322</th>\n",
       "      <th>844</th>\n",
       "      <th>465</th>\n",
       "      <th>85</th>\n",
       "      <th>607</th>\n",
       "      <th>228</th>\n",
       "      <th>749</th>\n",
       "      <th>370</th>\n",
       "      <th>891</th>\n",
       "    </tr>\n",
       "  </thead>\n",
       "  <tbody>\n",
       "    <tr>\n",
       "      <th>512</th>\n",
       "      <td>6.586941</td>\n",
       "      <td>1.612697</td>\n",
       "      <td>1.481490</td>\n",
       "      <td>0.073114</td>\n",
       "      <td>0.049693</td>\n",
       "      <td>1.310956</td>\n",
       "      <td>0.046330</td>\n",
       "      <td>3.256153</td>\n",
       "      <td>0.125935</td>\n",
       "      <td>1.632902</td>\n",
       "      <td>0.032017</td>\n",
       "      <td>0.016403</td>\n",
       "      <td>3.702070</td>\n",
       "      <td>0.231363</td>\n",
       "      <td>0.505243</td>\n",
       "      <td>0.032987</td>\n",
       "      <td>0.627999</td>\n",
       "      <td>2.474129</td>\n",
       "      <td>0.273258</td>\n",
       "    </tr>\n",
       "    <tr>\n",
       "      <th>133</th>\n",
       "      <td>1.579704</td>\n",
       "      <td>3.816733</td>\n",
       "      <td>1.628253</td>\n",
       "      <td>0.103387</td>\n",
       "      <td>0.207121</td>\n",
       "      <td>2.256569</td>\n",
       "      <td>0.159430</td>\n",
       "      <td>2.227756</td>\n",
       "      <td>0.175687</td>\n",
       "      <td>2.337760</td>\n",
       "      <td>0.078775</td>\n",
       "      <td>0.027474</td>\n",
       "      <td>0.770261</td>\n",
       "      <td>0.447281</td>\n",
       "      <td>0.504238</td>\n",
       "      <td>0.059301</td>\n",
       "      <td>1.396815</td>\n",
       "      <td>2.040046</td>\n",
       "      <td>0.278912</td>\n",
       "    </tr>\n",
       "    <tr>\n",
       "      <th>654</th>\n",
       "      <td>1.432264</td>\n",
       "      <td>1.625603</td>\n",
       "      <td>4.843501</td>\n",
       "      <td>0.070387</td>\n",
       "      <td>0.400432</td>\n",
       "      <td>2.395607</td>\n",
       "      <td>0.499542</td>\n",
       "      <td>0.889554</td>\n",
       "      <td>0.449279</td>\n",
       "      <td>1.489511</td>\n",
       "      <td>0.064869</td>\n",
       "      <td>0.013406</td>\n",
       "      <td>1.051237</td>\n",
       "      <td>0.153266</td>\n",
       "      <td>0.550099</td>\n",
       "      <td>0.051021</td>\n",
       "      <td>0.959494</td>\n",
       "      <td>2.101446</td>\n",
       "      <td>0.981637</td>\n",
       "    </tr>\n",
       "    <tr>\n",
       "      <th>275</th>\n",
       "      <td>0.073831</td>\n",
       "      <td>0.104462</td>\n",
       "      <td>0.071666</td>\n",
       "      <td>3.855682</td>\n",
       "      <td>0.540075</td>\n",
       "      <td>0.102297</td>\n",
       "      <td>0.507831</td>\n",
       "      <td>0.073533</td>\n",
       "      <td>0.591743</td>\n",
       "      <td>0.143165</td>\n",
       "      <td>1.341221</td>\n",
       "      <td>2.074442</td>\n",
       "      <td>0.383473</td>\n",
       "      <td>2.297674</td>\n",
       "      <td>0.951704</td>\n",
       "      <td>3.450778</td>\n",
       "      <td>0.596679</td>\n",
       "      <td>0.075991</td>\n",
       "      <td>0.340947</td>\n",
       "    </tr>\n",
       "    <tr>\n",
       "      <th>796</th>\n",
       "      <td>0.046658</td>\n",
       "      <td>0.202081</td>\n",
       "      <td>0.396492</td>\n",
       "      <td>0.533423</td>\n",
       "      <td>3.424364</td>\n",
       "      <td>0.287179</td>\n",
       "      <td>1.991449</td>\n",
       "      <td>0.053213</td>\n",
       "      <td>2.260839</td>\n",
       "      <td>0.296075</td>\n",
       "      <td>1.488340</td>\n",
       "      <td>0.331822</td>\n",
       "      <td>0.195984</td>\n",
       "      <td>0.367440</td>\n",
       "      <td>1.316608</td>\n",
       "      <td>0.317498</td>\n",
       "      <td>1.455544</td>\n",
       "      <td>0.240563</td>\n",
       "      <td>1.637631</td>\n",
       "    </tr>\n",
       "  </tbody>\n",
       "</table>\n",
       "</div>"
      ],
      "text/plain": [
       "          512       133       654       275       796       417       939  \\\n",
       "512  6.586941  1.612697  1.481490  0.073114  0.049693  1.310956  0.046330   \n",
       "133  1.579704  3.816733  1.628253  0.103387  0.207121  2.256569  0.159430   \n",
       "654  1.432264  1.625603  4.843501  0.070387  0.400432  2.395607  0.499542   \n",
       "275  0.073831  0.104462  0.071666  3.855682  0.540075  0.102297  0.507831   \n",
       "796  0.046658  0.202081  0.396492  0.533423  3.424364  0.287179  1.991449   \n",
       "\n",
       "          559       180       702       322       844       465        85  \\\n",
       "512  3.256153  0.125935  1.632902  0.032017  0.016403  3.702070  0.231363   \n",
       "133  2.227756  0.175687  2.337760  0.078775  0.027474  0.770261  0.447281   \n",
       "654  0.889554  0.449279  1.489511  0.064869  0.013406  1.051237  0.153266   \n",
       "275  0.073533  0.591743  0.143165  1.341221  2.074442  0.383473  2.297674   \n",
       "796  0.053213  2.260839  0.296075  1.488340  0.331822  0.195984  0.367440   \n",
       "\n",
       "          607       228       749       370       891  \n",
       "512  0.505243  0.032987  0.627999  2.474129  0.273258  \n",
       "133  0.504238  0.059301  1.396815  2.040046  0.278912  \n",
       "654  0.550099  0.051021  0.959494  2.101446  0.981637  \n",
       "275  0.951704  3.450778  0.596679  0.075991  0.340947  \n",
       "796  1.316608  0.317498  1.455544  0.240563  1.637631  "
      ]
     },
     "execution_count": 92,
     "metadata": {},
     "output_type": "execute_result"
    }
   ],
   "source": [
    "gclq = gclq.loc[[str(x) for x in gclq_vec.index],[str(x) for x in gclq_vec.columns]]\n",
    "gclq.head()"
   ]
  },
  {
   "cell_type": "code",
   "execution_count": 93,
   "metadata": {
    "vscode": {
     "languageId": "python"
    }
   },
   "outputs": [
    {
     "data": {
      "text/html": [
       "<div>\n",
       "<style scoped>\n",
       "    .dataframe tbody tr th:only-of-type {\n",
       "        vertical-align: middle;\n",
       "    }\n",
       "\n",
       "    .dataframe tbody tr th {\n",
       "        vertical-align: top;\n",
       "    }\n",
       "\n",
       "    .dataframe thead th {\n",
       "        text-align: right;\n",
       "    }\n",
       "</style>\n",
       "<table border=\"1\" class=\"dataframe\">\n",
       "  <thead>\n",
       "    <tr style=\"text-align: right;\">\n",
       "      <th></th>\n",
       "      <th>512</th>\n",
       "      <th>133</th>\n",
       "      <th>654</th>\n",
       "      <th>275</th>\n",
       "      <th>796</th>\n",
       "      <th>417</th>\n",
       "      <th>939</th>\n",
       "      <th>559</th>\n",
       "      <th>180</th>\n",
       "      <th>702</th>\n",
       "      <th>322</th>\n",
       "      <th>844</th>\n",
       "      <th>465</th>\n",
       "      <th>85</th>\n",
       "      <th>607</th>\n",
       "      <th>228</th>\n",
       "      <th>749</th>\n",
       "      <th>370</th>\n",
       "      <th>891</th>\n",
       "    </tr>\n",
       "  </thead>\n",
       "  <tbody>\n",
       "    <tr>\n",
       "      <th>512</th>\n",
       "      <td>6.586941</td>\n",
       "      <td>1.612697</td>\n",
       "      <td>1.481490</td>\n",
       "      <td>0.073114</td>\n",
       "      <td>0.049693</td>\n",
       "      <td>1.310956</td>\n",
       "      <td>0.046330</td>\n",
       "      <td>3.256153</td>\n",
       "      <td>0.125935</td>\n",
       "      <td>1.632902</td>\n",
       "      <td>0.032017</td>\n",
       "      <td>0.016403</td>\n",
       "      <td>3.702070</td>\n",
       "      <td>0.231363</td>\n",
       "      <td>0.505243</td>\n",
       "      <td>0.032987</td>\n",
       "      <td>0.627999</td>\n",
       "      <td>2.474129</td>\n",
       "      <td>0.273258</td>\n",
       "    </tr>\n",
       "    <tr>\n",
       "      <th>133</th>\n",
       "      <td>1.579704</td>\n",
       "      <td>3.816733</td>\n",
       "      <td>1.628253</td>\n",
       "      <td>0.103387</td>\n",
       "      <td>0.207121</td>\n",
       "      <td>2.256569</td>\n",
       "      <td>0.159430</td>\n",
       "      <td>2.227756</td>\n",
       "      <td>0.175687</td>\n",
       "      <td>2.337760</td>\n",
       "      <td>0.078775</td>\n",
       "      <td>0.027474</td>\n",
       "      <td>0.770261</td>\n",
       "      <td>0.447281</td>\n",
       "      <td>0.504238</td>\n",
       "      <td>0.059301</td>\n",
       "      <td>1.396815</td>\n",
       "      <td>2.040046</td>\n",
       "      <td>0.278912</td>\n",
       "    </tr>\n",
       "    <tr>\n",
       "      <th>654</th>\n",
       "      <td>1.432264</td>\n",
       "      <td>1.625603</td>\n",
       "      <td>4.843501</td>\n",
       "      <td>0.070387</td>\n",
       "      <td>0.400432</td>\n",
       "      <td>2.395607</td>\n",
       "      <td>0.499542</td>\n",
       "      <td>0.889554</td>\n",
       "      <td>0.449279</td>\n",
       "      <td>1.489511</td>\n",
       "      <td>0.064869</td>\n",
       "      <td>0.013406</td>\n",
       "      <td>1.051237</td>\n",
       "      <td>0.153266</td>\n",
       "      <td>0.550099</td>\n",
       "      <td>0.051021</td>\n",
       "      <td>0.959494</td>\n",
       "      <td>2.101446</td>\n",
       "      <td>0.981637</td>\n",
       "    </tr>\n",
       "    <tr>\n",
       "      <th>275</th>\n",
       "      <td>0.073831</td>\n",
       "      <td>0.104462</td>\n",
       "      <td>0.071666</td>\n",
       "      <td>3.855682</td>\n",
       "      <td>0.540075</td>\n",
       "      <td>0.102297</td>\n",
       "      <td>0.507831</td>\n",
       "      <td>0.073533</td>\n",
       "      <td>0.591743</td>\n",
       "      <td>0.143165</td>\n",
       "      <td>1.341221</td>\n",
       "      <td>2.074442</td>\n",
       "      <td>0.383473</td>\n",
       "      <td>2.297674</td>\n",
       "      <td>0.951704</td>\n",
       "      <td>3.450778</td>\n",
       "      <td>0.596679</td>\n",
       "      <td>0.075991</td>\n",
       "      <td>0.340947</td>\n",
       "    </tr>\n",
       "    <tr>\n",
       "      <th>796</th>\n",
       "      <td>0.046658</td>\n",
       "      <td>0.202081</td>\n",
       "      <td>0.396492</td>\n",
       "      <td>0.533423</td>\n",
       "      <td>3.424364</td>\n",
       "      <td>0.287179</td>\n",
       "      <td>1.991449</td>\n",
       "      <td>0.053213</td>\n",
       "      <td>2.260839</td>\n",
       "      <td>0.296075</td>\n",
       "      <td>1.488340</td>\n",
       "      <td>0.331822</td>\n",
       "      <td>0.195984</td>\n",
       "      <td>0.367440</td>\n",
       "      <td>1.316608</td>\n",
       "      <td>0.317498</td>\n",
       "      <td>1.455544</td>\n",
       "      <td>0.240563</td>\n",
       "      <td>1.637631</td>\n",
       "    </tr>\n",
       "  </tbody>\n",
       "</table>\n",
       "</div>"
      ],
      "text/plain": [
       "          512       133       654       275       796       417       939  \\\n",
       "512  6.586941  1.612697  1.481490  0.073114  0.049693  1.310956  0.046330   \n",
       "133  1.579704  3.816733  1.628253  0.103387  0.207121  2.256569  0.159430   \n",
       "654  1.432264  1.625603  4.843501  0.070387  0.400432  2.395607  0.499542   \n",
       "275  0.073831  0.104462  0.071666  3.855682  0.540075  0.102297  0.507831   \n",
       "796  0.046658  0.202081  0.396492  0.533423  3.424364  0.287179  1.991449   \n",
       "\n",
       "          559       180       702       322       844       465       85   \\\n",
       "512  3.256153  0.125935  1.632902  0.032017  0.016403  3.702070  0.231363   \n",
       "133  2.227756  0.175687  2.337760  0.078775  0.027474  0.770261  0.447281   \n",
       "654  0.889554  0.449279  1.489511  0.064869  0.013406  1.051237  0.153266   \n",
       "275  0.073533  0.591743  0.143165  1.341221  2.074442  0.383473  2.297674   \n",
       "796  0.053213  2.260839  0.296075  1.488340  0.331822  0.195984  0.367440   \n",
       "\n",
       "          607       228       749       370       891  \n",
       "512  0.505243  0.032987  0.627999  2.474129  0.273258  \n",
       "133  0.504238  0.059301  1.396815  2.040046  0.278912  \n",
       "654  0.550099  0.051021  0.959494  2.101446  0.981637  \n",
       "275  0.951704  3.450778  0.596679  0.075991  0.340947  \n",
       "796  1.316608  0.317498  1.455544  0.240563  1.637631  "
      ]
     },
     "execution_count": 93,
     "metadata": {},
     "output_type": "execute_result"
    }
   ],
   "source": [
    "gclq_vec.head()"
   ]
  },
  {
   "cell_type": "code",
   "execution_count": 94,
   "metadata": {
    "vscode": {
     "languageId": "python"
    }
   },
   "outputs": [
    {
     "data": {
      "text/plain": [
       "True"
      ]
     },
     "execution_count": 94,
     "metadata": {},
     "output_type": "execute_result"
    }
   ],
   "source": [
    "#Is each element close in the global clq?\n",
    "np.allclose(gclq_vec,gclq)"
   ]
  },
  {
   "cell_type": "code",
   "execution_count": 95,
   "metadata": {
    "vscode": {
     "languageId": "python"
    }
   },
   "outputs": [
    {
     "data": {
      "text/html": [
       "<div>\n",
       "<style scoped>\n",
       "    .dataframe tbody tr th:only-of-type {\n",
       "        vertical-align: middle;\n",
       "    }\n",
       "\n",
       "    .dataframe tbody tr th {\n",
       "        vertical-align: top;\n",
       "    }\n",
       "\n",
       "    .dataframe thead th {\n",
       "        text-align: right;\n",
       "    }\n",
       "</style>\n",
       "<table border=\"1\" class=\"dataframe\">\n",
       "  <thead>\n",
       "    <tr style=\"text-align: right;\">\n",
       "      <th></th>\n",
       "      <th>localCLQ to 512</th>\n",
       "      <th>localCLQ to 133</th>\n",
       "      <th>localCLQ to 654</th>\n",
       "      <th>localCLQ to 275</th>\n",
       "      <th>localCLQ to 796</th>\n",
       "      <th>localCLQ to 417</th>\n",
       "      <th>localCLQ to 939</th>\n",
       "      <th>localCLQ to 559</th>\n",
       "      <th>localCLQ to 180</th>\n",
       "      <th>localCLQ to 702</th>\n",
       "      <th>localCLQ to 322</th>\n",
       "      <th>localCLQ to 844</th>\n",
       "      <th>localCLQ to 465</th>\n",
       "      <th>localCLQ to 85</th>\n",
       "      <th>localCLQ to 607</th>\n",
       "      <th>localCLQ to 228</th>\n",
       "      <th>localCLQ to 749</th>\n",
       "      <th>localCLQ to 370</th>\n",
       "      <th>localCLQ to 891</th>\n",
       "    </tr>\n",
       "  </thead>\n",
       "  <tbody>\n",
       "    <tr>\n",
       "      <th>0</th>\n",
       "      <td>16.357984</td>\n",
       "      <td>0.0</td>\n",
       "      <td>1.196253</td>\n",
       "      <td>0.000000</td>\n",
       "      <td>0.000000</td>\n",
       "      <td>0.000000</td>\n",
       "      <td>0.000000</td>\n",
       "      <td>0.0</td>\n",
       "      <td>0.0</td>\n",
       "      <td>0.000000</td>\n",
       "      <td>0.000000</td>\n",
       "      <td>0.000000</td>\n",
       "      <td>0.0</td>\n",
       "      <td>0.000000</td>\n",
       "      <td>0.000000</td>\n",
       "      <td>0.000000</td>\n",
       "      <td>0.0</td>\n",
       "      <td>2.400178</td>\n",
       "      <td>0.000000</td>\n",
       "    </tr>\n",
       "    <tr>\n",
       "      <th>1</th>\n",
       "      <td>14.973847</td>\n",
       "      <td>0.0</td>\n",
       "      <td>1.016815</td>\n",
       "      <td>0.000000</td>\n",
       "      <td>0.000000</td>\n",
       "      <td>0.000000</td>\n",
       "      <td>0.000000</td>\n",
       "      <td>0.0</td>\n",
       "      <td>0.0</td>\n",
       "      <td>0.585852</td>\n",
       "      <td>0.000000</td>\n",
       "      <td>0.000000</td>\n",
       "      <td>0.0</td>\n",
       "      <td>0.000000</td>\n",
       "      <td>0.000000</td>\n",
       "      <td>0.000000</td>\n",
       "      <td>0.0</td>\n",
       "      <td>2.720202</td>\n",
       "      <td>0.000000</td>\n",
       "    </tr>\n",
       "    <tr>\n",
       "      <th>2</th>\n",
       "      <td>11.518344</td>\n",
       "      <td>0.0</td>\n",
       "      <td>3.910827</td>\n",
       "      <td>0.000000</td>\n",
       "      <td>0.000000</td>\n",
       "      <td>1.103344</td>\n",
       "      <td>0.000000</td>\n",
       "      <td>0.0</td>\n",
       "      <td>0.0</td>\n",
       "      <td>0.450656</td>\n",
       "      <td>0.000000</td>\n",
       "      <td>0.000000</td>\n",
       "      <td>0.0</td>\n",
       "      <td>0.000000</td>\n",
       "      <td>0.000000</td>\n",
       "      <td>0.000000</td>\n",
       "      <td>0.0</td>\n",
       "      <td>2.615578</td>\n",
       "      <td>0.000000</td>\n",
       "    </tr>\n",
       "    <tr>\n",
       "      <th>3</th>\n",
       "      <td>0.000000</td>\n",
       "      <td>0.0</td>\n",
       "      <td>0.000000</td>\n",
       "      <td>3.107866</td>\n",
       "      <td>0.000000</td>\n",
       "      <td>0.000000</td>\n",
       "      <td>0.000000</td>\n",
       "      <td>0.0</td>\n",
       "      <td>0.0</td>\n",
       "      <td>0.000000</td>\n",
       "      <td>0.000000</td>\n",
       "      <td>4.859888</td>\n",
       "      <td>0.0</td>\n",
       "      <td>4.120888</td>\n",
       "      <td>0.000000</td>\n",
       "      <td>4.910579</td>\n",
       "      <td>0.0</td>\n",
       "      <td>0.000000</td>\n",
       "      <td>0.000000</td>\n",
       "    </tr>\n",
       "    <tr>\n",
       "      <th>4</th>\n",
       "      <td>0.000000</td>\n",
       "      <td>0.0</td>\n",
       "      <td>0.000000</td>\n",
       "      <td>0.000000</td>\n",
       "      <td>2.496825</td>\n",
       "      <td>0.000000</td>\n",
       "      <td>4.733142</td>\n",
       "      <td>0.0</td>\n",
       "      <td>0.0</td>\n",
       "      <td>0.000000</td>\n",
       "      <td>3.150306</td>\n",
       "      <td>0.000000</td>\n",
       "      <td>0.0</td>\n",
       "      <td>2.666457</td>\n",
       "      <td>1.490213</td>\n",
       "      <td>1.059145</td>\n",
       "      <td>0.0</td>\n",
       "      <td>0.000000</td>\n",
       "      <td>1.846226</td>\n",
       "    </tr>\n",
       "  </tbody>\n",
       "</table>\n",
       "</div>"
      ],
      "text/plain": [
       "   localCLQ to 512  localCLQ to 133  localCLQ to 654  localCLQ to 275  \\\n",
       "0        16.357984              0.0         1.196253         0.000000   \n",
       "1        14.973847              0.0         1.016815         0.000000   \n",
       "2        11.518344              0.0         3.910827         0.000000   \n",
       "3         0.000000              0.0         0.000000         3.107866   \n",
       "4         0.000000              0.0         0.000000         0.000000   \n",
       "\n",
       "   localCLQ to 796  localCLQ to 417  localCLQ to 939  localCLQ to 559  \\\n",
       "0         0.000000         0.000000         0.000000              0.0   \n",
       "1         0.000000         0.000000         0.000000              0.0   \n",
       "2         0.000000         1.103344         0.000000              0.0   \n",
       "3         0.000000         0.000000         0.000000              0.0   \n",
       "4         2.496825         0.000000         4.733142              0.0   \n",
       "\n",
       "   localCLQ to 180  localCLQ to 702  localCLQ to 322  localCLQ to 844  \\\n",
       "0              0.0         0.000000         0.000000         0.000000   \n",
       "1              0.0         0.585852         0.000000         0.000000   \n",
       "2              0.0         0.450656         0.000000         0.000000   \n",
       "3              0.0         0.000000         0.000000         4.859888   \n",
       "4              0.0         0.000000         3.150306         0.000000   \n",
       "\n",
       "   localCLQ to 465  localCLQ to 85  localCLQ to 607  localCLQ to 228  \\\n",
       "0              0.0        0.000000         0.000000         0.000000   \n",
       "1              0.0        0.000000         0.000000         0.000000   \n",
       "2              0.0        0.000000         0.000000         0.000000   \n",
       "3              0.0        4.120888         0.000000         4.910579   \n",
       "4              0.0        2.666457         1.490213         1.059145   \n",
       "\n",
       "   localCLQ to 749  localCLQ to 370  localCLQ to 891  \n",
       "0              0.0         2.400178         0.000000  \n",
       "1              0.0         2.720202         0.000000  \n",
       "2              0.0         2.615578         0.000000  \n",
       "3              0.0         0.000000         0.000000  \n",
       "4              0.0         0.000000         1.846226  "
      ]
     },
     "execution_count": 95,
     "metadata": {},
     "output_type": "execute_result"
    }
   ],
   "source": [
    "lclq = lclq.loc[:,['localCLQ to '+str(x) for x in lclq_vec.columns]]\n",
    "lclq.head()"
   ]
  },
  {
   "cell_type": "code",
   "execution_count": 96,
   "metadata": {
    "vscode": {
     "languageId": "python"
    }
   },
   "outputs": [
    {
     "data": {
      "text/html": [
       "<div>\n",
       "<style scoped>\n",
       "    .dataframe tbody tr th:only-of-type {\n",
       "        vertical-align: middle;\n",
       "    }\n",
       "\n",
       "    .dataframe tbody tr th {\n",
       "        vertical-align: top;\n",
       "    }\n",
       "\n",
       "    .dataframe thead th {\n",
       "        text-align: right;\n",
       "    }\n",
       "</style>\n",
       "<table border=\"1\" class=\"dataframe\">\n",
       "  <thead>\n",
       "    <tr style=\"text-align: right;\">\n",
       "      <th></th>\n",
       "      <th>512</th>\n",
       "      <th>133</th>\n",
       "      <th>654</th>\n",
       "      <th>275</th>\n",
       "      <th>796</th>\n",
       "      <th>417</th>\n",
       "      <th>939</th>\n",
       "      <th>559</th>\n",
       "      <th>180</th>\n",
       "      <th>702</th>\n",
       "      <th>322</th>\n",
       "      <th>844</th>\n",
       "      <th>465</th>\n",
       "      <th>85</th>\n",
       "      <th>607</th>\n",
       "      <th>228</th>\n",
       "      <th>749</th>\n",
       "      <th>370</th>\n",
       "      <th>891</th>\n",
       "    </tr>\n",
       "  </thead>\n",
       "  <tbody>\n",
       "    <tr>\n",
       "      <th>0</th>\n",
       "      <td>16.357985</td>\n",
       "      <td>0.0</td>\n",
       "      <td>1.196253</td>\n",
       "      <td>0.000000</td>\n",
       "      <td>0.000000</td>\n",
       "      <td>0.000000</td>\n",
       "      <td>0.000000</td>\n",
       "      <td>0.0</td>\n",
       "      <td>0.0</td>\n",
       "      <td>0.000000</td>\n",
       "      <td>0.000000</td>\n",
       "      <td>0.000000</td>\n",
       "      <td>0.0</td>\n",
       "      <td>0.000000</td>\n",
       "      <td>0.000000</td>\n",
       "      <td>0.000000</td>\n",
       "      <td>0.0</td>\n",
       "      <td>2.400178</td>\n",
       "      <td>0.000000</td>\n",
       "    </tr>\n",
       "    <tr>\n",
       "      <th>1</th>\n",
       "      <td>14.973847</td>\n",
       "      <td>0.0</td>\n",
       "      <td>1.016815</td>\n",
       "      <td>0.000000</td>\n",
       "      <td>0.000000</td>\n",
       "      <td>0.000000</td>\n",
       "      <td>0.000000</td>\n",
       "      <td>0.0</td>\n",
       "      <td>0.0</td>\n",
       "      <td>0.585852</td>\n",
       "      <td>0.000000</td>\n",
       "      <td>0.000000</td>\n",
       "      <td>0.0</td>\n",
       "      <td>0.000000</td>\n",
       "      <td>0.000000</td>\n",
       "      <td>0.000000</td>\n",
       "      <td>0.0</td>\n",
       "      <td>2.720202</td>\n",
       "      <td>0.000000</td>\n",
       "    </tr>\n",
       "    <tr>\n",
       "      <th>2</th>\n",
       "      <td>11.518345</td>\n",
       "      <td>0.0</td>\n",
       "      <td>3.910827</td>\n",
       "      <td>0.000000</td>\n",
       "      <td>0.000000</td>\n",
       "      <td>1.103345</td>\n",
       "      <td>0.000000</td>\n",
       "      <td>0.0</td>\n",
       "      <td>0.0</td>\n",
       "      <td>0.450656</td>\n",
       "      <td>0.000000</td>\n",
       "      <td>0.000000</td>\n",
       "      <td>0.0</td>\n",
       "      <td>0.000000</td>\n",
       "      <td>0.000000</td>\n",
       "      <td>0.000000</td>\n",
       "      <td>0.0</td>\n",
       "      <td>2.615578</td>\n",
       "      <td>0.000000</td>\n",
       "    </tr>\n",
       "    <tr>\n",
       "      <th>3</th>\n",
       "      <td>0.000000</td>\n",
       "      <td>0.0</td>\n",
       "      <td>0.000000</td>\n",
       "      <td>3.107866</td>\n",
       "      <td>0.000000</td>\n",
       "      <td>0.000000</td>\n",
       "      <td>0.000000</td>\n",
       "      <td>0.0</td>\n",
       "      <td>0.0</td>\n",
       "      <td>0.000000</td>\n",
       "      <td>0.000000</td>\n",
       "      <td>4.859888</td>\n",
       "      <td>0.0</td>\n",
       "      <td>4.120888</td>\n",
       "      <td>0.000000</td>\n",
       "      <td>4.910580</td>\n",
       "      <td>0.0</td>\n",
       "      <td>0.000000</td>\n",
       "      <td>0.000000</td>\n",
       "    </tr>\n",
       "    <tr>\n",
       "      <th>4</th>\n",
       "      <td>0.000000</td>\n",
       "      <td>0.0</td>\n",
       "      <td>0.000000</td>\n",
       "      <td>0.000000</td>\n",
       "      <td>2.496825</td>\n",
       "      <td>0.000000</td>\n",
       "      <td>4.733142</td>\n",
       "      <td>0.0</td>\n",
       "      <td>0.0</td>\n",
       "      <td>0.000000</td>\n",
       "      <td>3.150306</td>\n",
       "      <td>0.000000</td>\n",
       "      <td>0.0</td>\n",
       "      <td>2.666457</td>\n",
       "      <td>1.490213</td>\n",
       "      <td>1.059145</td>\n",
       "      <td>0.0</td>\n",
       "      <td>0.000000</td>\n",
       "      <td>1.846226</td>\n",
       "    </tr>\n",
       "  </tbody>\n",
       "</table>\n",
       "</div>"
      ],
      "text/plain": [
       "         512  133       654       275       796       417       939  559  180  \\\n",
       "0  16.357985  0.0  1.196253  0.000000  0.000000  0.000000  0.000000  0.0  0.0   \n",
       "1  14.973847  0.0  1.016815  0.000000  0.000000  0.000000  0.000000  0.0  0.0   \n",
       "2  11.518345  0.0  3.910827  0.000000  0.000000  1.103345  0.000000  0.0  0.0   \n",
       "3   0.000000  0.0  0.000000  3.107866  0.000000  0.000000  0.000000  0.0  0.0   \n",
       "4   0.000000  0.0  0.000000  0.000000  2.496825  0.000000  4.733142  0.0  0.0   \n",
       "\n",
       "        702       322       844  465       85        607       228  749  \\\n",
       "0  0.000000  0.000000  0.000000  0.0  0.000000  0.000000  0.000000  0.0   \n",
       "1  0.585852  0.000000  0.000000  0.0  0.000000  0.000000  0.000000  0.0   \n",
       "2  0.450656  0.000000  0.000000  0.0  0.000000  0.000000  0.000000  0.0   \n",
       "3  0.000000  0.000000  4.859888  0.0  4.120888  0.000000  4.910580  0.0   \n",
       "4  0.000000  3.150306  0.000000  0.0  2.666457  1.490213  1.059145  0.0   \n",
       "\n",
       "        370       891  \n",
       "0  2.400178  0.000000  \n",
       "1  2.720202  0.000000  \n",
       "2  2.615578  0.000000  \n",
       "3  0.000000  0.000000  \n",
       "4  0.000000  1.846226  "
      ]
     },
     "execution_count": 96,
     "metadata": {},
     "output_type": "execute_result"
    }
   ],
   "source": [
    "lclq_vec.head()"
   ]
  },
  {
   "cell_type": "code",
   "execution_count": 97,
   "metadata": {
    "vscode": {
     "languageId": "python"
    }
   },
   "outputs": [
    {
     "data": {
      "text/plain": [
       "True"
      ]
     },
     "execution_count": 97,
     "metadata": {},
     "output_type": "execute_result"
    }
   ],
   "source": [
    "#How about local clq?\n",
    "np.allclose(lclq,lclq_vec)"
   ]
  },
  {
   "cell_type": "code",
   "execution_count": 98,
   "metadata": {
    "vscode": {
     "languageId": "python"
    }
   },
   "outputs": [],
   "source": [
    "ptest = ptest.loc[[str(x) for x in ptest_vec.index],[str(x) for x in ptest_vec.columns]]"
   ]
  },
  {
   "cell_type": "code",
   "execution_count": 99,
   "metadata": {
    "vscode": {
     "languageId": "python"
    }
   },
   "outputs": [
    {
     "data": {
      "image/png": "[encoded data removed]",
      "text/plain": [
       "<Figure size 640x480 with 3 Axes>"
      ]
     },
     "metadata": {},
     "output_type": "display_data"
    }
   ],
   "source": [
    "#How about heatmaps?\n",
    "f,a = plt.subplots(1,2)\n",
    "\n",
    "sns.heatmap(\n",
    "    data=ptest,\n",
    "    cmap='coolwarm',\n",
    "    vmax=1,\n",
    "    vmin=0,\n",
    "    ax=a[0],\n",
    "    cbar=False\n",
    ")\n",
    "\n",
    "sns.heatmap(\n",
    "    data=ptest_vec,\n",
    "    cmap='coolwarm',\n",
    "    vmax=1,\n",
    "    vmin=0,\n",
    "    ax=a[1],\n",
    ")\n",
    "\n",
    "a[0].set_title('Original')\n",
    "a[1].set_title('Vectorized')\n",
    "plt.show()"
   ]
  },
  {
   "cell_type": "code",
   "execution_count": null,
   "metadata": {
    "vscode": {
     "languageId": "python"
    }
   },
   "outputs": [],
   "source": []
  }
 ],
 "metadata": {
  "kernelspec": {
   "display_name": "squidpy_env",
   "language": "python",
   "name": "squidpy_env"
  },
  "orig_nbformat": 4
 },
 "nbformat": 4,
 "nbformat_minor": 2
}
